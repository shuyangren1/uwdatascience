{
 "cells": [
  {
   "cell_type": "markdown",
   "metadata": {},
   "source": [
    "# Lesson 3 Assignment - Monty Hall Simulation\n",
    "## Author - Shuyang Ren"
   ]
  },
  {
   "cell_type": "markdown",
   "metadata": {},
   "source": [
    "### Instructions\n",
    "Simulate the conditional probabilities of the distributions for winning a car vs. a goat for the Monty Hall Problem that includes the following:\n",
    "1. the cases for switching or not switching\n",
    "2. histograms and summary statistics (at least mean and variance) of the results for winning the car or a goat for both strategies: switching or not switching\n",
    "3. comparison of the cases to determine the best strategy\n",
    "4. recommended strategy\n",
    "\n"
   ]
  },
  {
   "cell_type": "markdown",
   "metadata": {},
   "source": [
    "#### Note: \n",
    "Please clearly outline the results and your recommendation with markdown text. Be sure your discussion includes narrative for your figures and tables so it is clear to the reader the importance of each bit of evidence."
   ]
  },
  {
   "cell_type": "code",
   "execution_count": 1,
   "metadata": {},
   "outputs": [],
   "source": [
    "# Import libraries\n",
    "import numpy as np\n",
    "import matplotlib.pyplot as plt\n",
    "import seaborn as sns\n",
    "import random"
   ]
  },
  {
   "cell_type": "code",
   "execution_count": 2,
   "metadata": {},
   "outputs": [],
   "source": [
    "successful_switches = [] # list of games where a contestant switches their pick ends up winning\n",
    "successful_stays = [] # list of games where a contestant staying with their ininital pick ends up winning\n",
    "    \n",
    "def simulate_single_game(does_switch):\n",
    "    # the winning door and initial door pick are randomlized\n",
    "    winning_door = random.randint(1, 3)\n",
    "    initial_door = random.randint(1, 3)\n",
    "    \n",
    "    # setting up the doors that Monte could possibly pick to reveal to the contestant\n",
    "    monte_doors = [1, 2, 3]\n",
    "    # remove the winning door and inital pick from options that monte can reveal\n",
    "    monte_doors.remove(winning_door)\n",
    "    if (initial_door in monte_doors):\n",
    "        monte_doors.remove(initial_door)\n",
    "    monte_door = random.choice(monte_doors)\n",
    "    \n",
    "    # the switch door is the door Monte didn't open and the contestant didn't pick\n",
    "    switch_doors = [1,2,3]\n",
    "    switch_doors.remove(monte_door)\n",
    "    switch_doors.remove(initial_door)\n",
    "    switch_door = switch_doors[0]\n",
    "\n",
    "    # case of the contestant choosing to switching    \n",
    "    if does_switch:\n",
    "        return (switch_door == winning_door)\n",
    "    # case for not switching\n",
    "    return (initial_door == winning_door)\n",
    "\n",
    "def simulate_game_trials(num_of_trials):\n",
    "    for trial in range(num_of_trials):\n",
    "        successful_switches.append(simulate_single_game(True))\n",
    "        successful_stays.append(simulate_single_game(False))"
   ]
  },
  {
   "cell_type": "code",
   "execution_count": 3,
   "metadata": {},
   "outputs": [],
   "source": [
    "# run the simulation for 100,000 trials\n",
    "simulate_game_trials(100000)"
   ]
  },
  {
   "cell_type": "code",
   "execution_count": 4,
   "metadata": {},
   "outputs": [
    {
     "data": {
      "text/plain": [
       "0.66617"
      ]
     },
     "execution_count": 4,
     "metadata": {},
     "output_type": "execute_result"
    }
   ],
   "source": [
    "# the percentage of games where switching won the contestant the game\n",
    "np.mean(successful_switches)"
   ]
  },
  {
   "cell_type": "code",
   "execution_count": 5,
   "metadata": {},
   "outputs": [
    {
     "data": {
      "text/plain": [
       "0.33416"
      ]
     },
     "execution_count": 5,
     "metadata": {},
     "output_type": "execute_result"
    }
   ],
   "source": [
    "# the percentage of games where staying won the  contestant  the game\n",
    "np.mean(successful_stays)"
   ]
  },
  {
   "cell_type": "code",
   "execution_count": 6,
   "metadata": {},
   "outputs": [
    {
     "data": {
      "text/plain": [
       "0.2223875311"
      ]
     },
     "execution_count": 6,
     "metadata": {},
     "output_type": "execute_result"
    }
   ],
   "source": [
    "# variance of winning games where contestant switched\n",
    "np.var(successful_switches)"
   ]
  },
  {
   "cell_type": "code",
   "execution_count": 7,
   "metadata": {},
   "outputs": [
    {
     "data": {
      "text/plain": [
       "0.22249709439999998"
      ]
     },
     "execution_count": 7,
     "metadata": {},
     "output_type": "execute_result"
    }
   ],
   "source": [
    "# variance of winning games where contestant stayed\n",
    "np.var(successful_stays)"
   ]
  },
  {
   "cell_type": "markdown",
   "metadata": {},
   "source": [
    "# Summary\n",
    "\n",
    "From the results of 100,000 simulatin of the Monte Hall problem, the mean rate of winning games where the contestant switched their door choice is around 0.667 while that of games where the contestant stayed with their door choice is around 0.334. In either case the variance is about the same at around the value of 0.222. Therefore, we strongly recommand contestant to always opt for the  strategy of \"switching\" their door choice."
   ]
  },
  {
   "cell_type": "code",
   "execution_count": null,
   "metadata": {},
   "outputs": [],
   "source": []
  }
 ],
 "metadata": {
  "kernelspec": {
   "display_name": "Python 3",
   "language": "python",
   "name": "python3"
  },
  "language_info": {
   "codemirror_mode": {
    "name": "ipython",
    "version": 3
   },
   "file_extension": ".py",
   "mimetype": "text/x-python",
   "name": "python",
   "nbconvert_exporter": "python",
   "pygments_lexer": "ipython3",
   "version": "3.7.1"
  }
 },
 "nbformat": 4,
 "nbformat_minor": 2
}
